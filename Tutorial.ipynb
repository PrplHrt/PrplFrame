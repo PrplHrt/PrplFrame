{
  "nbformat": 4,
  "nbformat_minor": 0,
  "metadata": {
    "colab": {
      "provenance": []
    },
    "kernelspec": {
      "name": "python3",
      "display_name": "Python 3"
    },
    "language_info": {
      "name": "python"
    }
  },
  "cells": [
    {
      "cell_type": "markdown",
      "source": [
        "# PrplFrame Tutorial Notebook\n",
        "\n",
        "In this notebook, I explain how to use this library to perform a parametric regression study. This notebook will contain different sections that can be edited to fit your purposes."
      ],
      "metadata": {
        "id": "7egnuv2bbKCJ"
      }
    },
    {
      "cell_type": "markdown",
      "source": [
        "## Setup\n",
        "\n",
        "In this section we walk through making sure that the environment you're using is ready for the experiments we are about to perform. I'm going to assume you are using Google Colab for these experiments (you can also run this code on your local PC but you'll need to make sure all dependencies are installed).\n",
        "\n",
        "The first step is to clone the repository and change directory into the cloned repo."
      ],
      "metadata": {
        "id": "jdXe6VnibLZz"
      }
    },
    {
      "cell_type": "code",
      "execution_count": 1,
      "metadata": {
        "colab": {
          "base_uri": "https://localhost:8080/",
          "height": 0
        },
        "id": "XKp6UL8ObENB",
        "outputId": "788ba43c-054b-45e2-d191-8c6476dff05a"
      },
      "outputs": [
        {
          "output_type": "stream",
          "name": "stdout",
          "text": [
            "fatal: destination path 'PrplFrame' already exists and is not an empty directory.\n",
            "/content/PrplFrame\n"
          ]
        }
      ],
      "source": [
        "!git clone https://github.com/PrplHrt/PrplFrame.git\n",
        "%cd PrplFrame"
      ]
    },
    {
      "cell_type": "markdown",
      "source": [
        "The next step is to import all the needed libraries for the experiment."
      ],
      "metadata": {
        "id": "_6HBNpB_dGZ2"
      }
    },
    {
      "cell_type": "code",
      "source": [
        "# Import all needed libraries for the experiment\n",
        "import pandas as pd\n",
        "from evaluation import utils\n",
        "from models import regression\n",
        "from output import render\n",
        "import os"
      ],
      "metadata": {
        "id": "dWPEvhfkcKrn"
      },
      "execution_count": 2,
      "outputs": []
    },
    {
      "cell_type": "markdown",
      "source": [
        "## Loading in our data\n",
        "\n",
        "After we've set up the environment, we can begin by first loading in our data for the experiments. I've designed the code so that most of it can be edited by working with a single dictionary below. Feel free to change the dictionary with the values appropriate to your use case. In this experiment, we're going to be using `data/Concrete_Data.xls` as our dataset. If you'd like to use a different dataset, upload it to the `data` directory OR mount your Google Drive and replace the path with the path to the dataset.\n",
        "\n",
        "\n",
        "Dataset Info details:\n",
        "*   `name` : the name of the dataset, used for titles\n",
        "*   `type` : either \"Regression\" or \"Classification\" but this can't be changed as of now\n",
        "*   `target` :  the name of the target column in the dataset\n",
        "*   `split` : the percentage/fraction of the data to be used as a test set\n",
        "*   `path` : the relative or absolute path to the dataset\n",
        "*   `source` : information about the source of the dataset to be used in output\n",
        "\n"
      ],
      "metadata": {
        "id": "uPu-OqvOb7-q"
      }
    },
    {
      "cell_type": "code",
      "source": [
        "# Dataset info\n",
        "dataset_info = {'name': 'Concrete Compressive Strength 2',\n",
        "                'type': 'Regression',\n",
        "                'target': 'Concrete compressive strength(MPa, megapascals) ',\n",
        "                'split': 0.2,\n",
        "                'path': \"data/Concrete_Data 2.xls\",\n",
        "                'source': \"\"\"Prof. I-Cheng Yeh\n",
        "  Department of Information Management\n",
        "  Chung-Hua University,\n",
        "  Hsin Chu, Taiwan 30067, R.O.C.\n",
        "  e-mail:icyeh@chu.edu.tw\n",
        "  TEL:886-3-5186511\"\"\"}"
      ],
      "metadata": {
        "id": "IY0Y56p_dByT"
      },
      "execution_count": 3,
      "outputs": []
    },
    {
      "cell_type": "markdown",
      "source": [
        "Once we have the information for our dataset we can load  it in and split it accordingly. We also add information about the size of the dataset automatically."
      ],
      "metadata": {
        "id": "6GhbsEzLfCx4"
      }
    },
    {
      "cell_type": "code",
      "source": [
        "dataset = pd.read_excel(dataset_info['path'])\n",
        "dataset_info['size'] = len(dataset)\n",
        "\n",
        "data = utils.load_Xy(dataset, dataset_info['target'], dataset_info['split'])\n",
        "dataset.head()"
      ],
      "metadata": {
        "colab": {
          "base_uri": "https://localhost:8080/",
          "height": 267
        },
        "id": "xG0UGU6Me_A3",
        "outputId": "1257abf6-86c4-47eb-9779-739c15710b47"
      },
      "execution_count": 4,
      "outputs": [
        {
          "output_type": "execute_result",
          "data": {
            "text/plain": [
              "   Water/Binder Raito   Superplasticizer (component 5)(kg in a m^3 mixture)  \\\n",
              "0             0.300000                                                2.5     \n",
              "1             0.150000                                                2.5     \n",
              "2             0.224631                                                0.0     \n",
              "3             0.240000                                                0.0     \n",
              "4             0.238213                                                0.0     \n",
              "\n",
              "   Coarse Aggregate  (component 6)(kg in a m^3 mixture)  \\\n",
              "0                                             1040.0      \n",
              "1                                             1055.0      \n",
              "2                                              932.0      \n",
              "3                                              932.0      \n",
              "4                                              978.4      \n",
              "\n",
              "   Fine Aggregate (component 7)(kg in a m^3 mixture)  Age (day)  \\\n",
              "0                                              676.0         28   \n",
              "1                                              676.0         28   \n",
              "2                                              594.0        270   \n",
              "3                                              594.0        365   \n",
              "4                                              825.5        360   \n",
              "\n",
              "   Concrete compressive strength(MPa, megapascals)   \n",
              "0                                         79.986111  \n",
              "1                                         61.887366  \n",
              "2                                         40.269535  \n",
              "3                                         41.052780  \n",
              "4                                         44.296075  "
            ],
            "text/html": [
              "\n",
              "\n",
              "  <div id=\"df-7eddc1d1-74c3-4609-ac5c-22881c64eb1d\">\n",
              "    <div class=\"colab-df-container\">\n",
              "      <div>\n",
              "<style scoped>\n",
              "    .dataframe tbody tr th:only-of-type {\n",
              "        vertical-align: middle;\n",
              "    }\n",
              "\n",
              "    .dataframe tbody tr th {\n",
              "        vertical-align: top;\n",
              "    }\n",
              "\n",
              "    .dataframe thead th {\n",
              "        text-align: right;\n",
              "    }\n",
              "</style>\n",
              "<table border=\"1\" class=\"dataframe\">\n",
              "  <thead>\n",
              "    <tr style=\"text-align: right;\">\n",
              "      <th></th>\n",
              "      <th>Water/Binder Raito</th>\n",
              "      <th>Superplasticizer (component 5)(kg in a m^3 mixture)</th>\n",
              "      <th>Coarse Aggregate  (component 6)(kg in a m^3 mixture)</th>\n",
              "      <th>Fine Aggregate (component 7)(kg in a m^3 mixture)</th>\n",
              "      <th>Age (day)</th>\n",
              "      <th>Concrete compressive strength(MPa, megapascals)</th>\n",
              "    </tr>\n",
              "  </thead>\n",
              "  <tbody>\n",
              "    <tr>\n",
              "      <th>0</th>\n",
              "      <td>0.300000</td>\n",
              "      <td>2.5</td>\n",
              "      <td>1040.0</td>\n",
              "      <td>676.0</td>\n",
              "      <td>28</td>\n",
              "      <td>79.986111</td>\n",
              "    </tr>\n",
              "    <tr>\n",
              "      <th>1</th>\n",
              "      <td>0.150000</td>\n",
              "      <td>2.5</td>\n",
              "      <td>1055.0</td>\n",
              "      <td>676.0</td>\n",
              "      <td>28</td>\n",
              "      <td>61.887366</td>\n",
              "    </tr>\n",
              "    <tr>\n",
              "      <th>2</th>\n",
              "      <td>0.224631</td>\n",
              "      <td>0.0</td>\n",
              "      <td>932.0</td>\n",
              "      <td>594.0</td>\n",
              "      <td>270</td>\n",
              "      <td>40.269535</td>\n",
              "    </tr>\n",
              "    <tr>\n",
              "      <th>3</th>\n",
              "      <td>0.240000</td>\n",
              "      <td>0.0</td>\n",
              "      <td>932.0</td>\n",
              "      <td>594.0</td>\n",
              "      <td>365</td>\n",
              "      <td>41.052780</td>\n",
              "    </tr>\n",
              "    <tr>\n",
              "      <th>4</th>\n",
              "      <td>0.238213</td>\n",
              "      <td>0.0</td>\n",
              "      <td>978.4</td>\n",
              "      <td>825.5</td>\n",
              "      <td>360</td>\n",
              "      <td>44.296075</td>\n",
              "    </tr>\n",
              "  </tbody>\n",
              "</table>\n",
              "</div>\n",
              "      <button class=\"colab-df-convert\" onclick=\"convertToInteractive('df-7eddc1d1-74c3-4609-ac5c-22881c64eb1d')\"\n",
              "              title=\"Convert this dataframe to an interactive table.\"\n",
              "              style=\"display:none;\">\n",
              "\n",
              "  <svg xmlns=\"http://www.w3.org/2000/svg\" height=\"24px\"viewBox=\"0 0 24 24\"\n",
              "       width=\"24px\">\n",
              "    <path d=\"M0 0h24v24H0V0z\" fill=\"none\"/>\n",
              "    <path d=\"M18.56 5.44l.94 2.06.94-2.06 2.06-.94-2.06-.94-.94-2.06-.94 2.06-2.06.94zm-11 1L8.5 8.5l.94-2.06 2.06-.94-2.06-.94L8.5 2.5l-.94 2.06-2.06.94zm10 10l.94 2.06.94-2.06 2.06-.94-2.06-.94-.94-2.06-.94 2.06-2.06.94z\"/><path d=\"M17.41 7.96l-1.37-1.37c-.4-.4-.92-.59-1.43-.59-.52 0-1.04.2-1.43.59L10.3 9.45l-7.72 7.72c-.78.78-.78 2.05 0 2.83L4 21.41c.39.39.9.59 1.41.59.51 0 1.02-.2 1.41-.59l7.78-7.78 2.81-2.81c.8-.78.8-2.07 0-2.86zM5.41 20L4 18.59l7.72-7.72 1.47 1.35L5.41 20z\"/>\n",
              "  </svg>\n",
              "      </button>\n",
              "\n",
              "\n",
              "\n",
              "    <div id=\"df-cdc2b551-3c78-43a9-b9fb-342839d2ae17\">\n",
              "      <button class=\"colab-df-quickchart\" onclick=\"quickchart('df-cdc2b551-3c78-43a9-b9fb-342839d2ae17')\"\n",
              "              title=\"Suggest charts.\"\n",
              "              style=\"display:none;\">\n",
              "\n",
              "<svg xmlns=\"http://www.w3.org/2000/svg\" height=\"24px\"viewBox=\"0 0 24 24\"\n",
              "     width=\"24px\">\n",
              "    <g>\n",
              "        <path d=\"M19 3H5c-1.1 0-2 .9-2 2v14c0 1.1.9 2 2 2h14c1.1 0 2-.9 2-2V5c0-1.1-.9-2-2-2zM9 17H7v-7h2v7zm4 0h-2V7h2v10zm4 0h-2v-4h2v4z\"/>\n",
              "    </g>\n",
              "</svg>\n",
              "      </button>\n",
              "    </div>\n",
              "\n",
              "<style>\n",
              "  .colab-df-quickchart {\n",
              "    background-color: #E8F0FE;\n",
              "    border: none;\n",
              "    border-radius: 50%;\n",
              "    cursor: pointer;\n",
              "    display: none;\n",
              "    fill: #1967D2;\n",
              "    height: 32px;\n",
              "    padding: 0 0 0 0;\n",
              "    width: 32px;\n",
              "  }\n",
              "\n",
              "  .colab-df-quickchart:hover {\n",
              "    background-color: #E2EBFA;\n",
              "    box-shadow: 0px 1px 2px rgba(60, 64, 67, 0.3), 0px 1px 3px 1px rgba(60, 64, 67, 0.15);\n",
              "    fill: #174EA6;\n",
              "  }\n",
              "\n",
              "  [theme=dark] .colab-df-quickchart {\n",
              "    background-color: #3B4455;\n",
              "    fill: #D2E3FC;\n",
              "  }\n",
              "\n",
              "  [theme=dark] .colab-df-quickchart:hover {\n",
              "    background-color: #434B5C;\n",
              "    box-shadow: 0px 1px 3px 1px rgba(0, 0, 0, 0.15);\n",
              "    filter: drop-shadow(0px 1px 2px rgba(0, 0, 0, 0.3));\n",
              "    fill: #FFFFFF;\n",
              "  }\n",
              "</style>\n",
              "\n",
              "    <script>\n",
              "      async function quickchart(key) {\n",
              "        const containerElement = document.querySelector('#' + key);\n",
              "        const charts = await google.colab.kernel.invokeFunction(\n",
              "            'suggestCharts', [key], {});\n",
              "      }\n",
              "    </script>\n",
              "\n",
              "      <script>\n",
              "\n",
              "function displayQuickchartButton(domScope) {\n",
              "  let quickchartButtonEl =\n",
              "    domScope.querySelector('#df-cdc2b551-3c78-43a9-b9fb-342839d2ae17 button.colab-df-quickchart');\n",
              "  quickchartButtonEl.style.display =\n",
              "    google.colab.kernel.accessAllowed ? 'block' : 'none';\n",
              "}\n",
              "\n",
              "        displayQuickchartButton(document);\n",
              "      </script>\n",
              "      <style>\n",
              "    .colab-df-container {\n",
              "      display:flex;\n",
              "      flex-wrap:wrap;\n",
              "      gap: 12px;\n",
              "    }\n",
              "\n",
              "    .colab-df-convert {\n",
              "      background-color: #E8F0FE;\n",
              "      border: none;\n",
              "      border-radius: 50%;\n",
              "      cursor: pointer;\n",
              "      display: none;\n",
              "      fill: #1967D2;\n",
              "      height: 32px;\n",
              "      padding: 0 0 0 0;\n",
              "      width: 32px;\n",
              "    }\n",
              "\n",
              "    .colab-df-convert:hover {\n",
              "      background-color: #E2EBFA;\n",
              "      box-shadow: 0px 1px 2px rgba(60, 64, 67, 0.3), 0px 1px 3px 1px rgba(60, 64, 67, 0.15);\n",
              "      fill: #174EA6;\n",
              "    }\n",
              "\n",
              "    [theme=dark] .colab-df-convert {\n",
              "      background-color: #3B4455;\n",
              "      fill: #D2E3FC;\n",
              "    }\n",
              "\n",
              "    [theme=dark] .colab-df-convert:hover {\n",
              "      background-color: #434B5C;\n",
              "      box-shadow: 0px 1px 3px 1px rgba(0, 0, 0, 0.15);\n",
              "      filter: drop-shadow(0px 1px 2px rgba(0, 0, 0, 0.3));\n",
              "      fill: #FFFFFF;\n",
              "    }\n",
              "  </style>\n",
              "\n",
              "      <script>\n",
              "        const buttonEl =\n",
              "          document.querySelector('#df-7eddc1d1-74c3-4609-ac5c-22881c64eb1d button.colab-df-convert');\n",
              "        buttonEl.style.display =\n",
              "          google.colab.kernel.accessAllowed ? 'block' : 'none';\n",
              "\n",
              "        async function convertToInteractive(key) {\n",
              "          const element = document.querySelector('#df-7eddc1d1-74c3-4609-ac5c-22881c64eb1d');\n",
              "          const dataTable =\n",
              "            await google.colab.kernel.invokeFunction('convertToInteractive',\n",
              "                                                     [key], {});\n",
              "          if (!dataTable) return;\n",
              "\n",
              "          const docLinkHtml = 'Like what you see? Visit the ' +\n",
              "            '<a target=\"_blank\" href=https://colab.research.google.com/notebooks/data_table.ipynb>data table notebook</a>'\n",
              "            + ' to learn more about interactive tables.';\n",
              "          element.innerHTML = '';\n",
              "          dataTable['output_type'] = 'display_data';\n",
              "          await google.colab.output.renderOutput(dataTable, element);\n",
              "          const docLink = document.createElement('div');\n",
              "          docLink.innerHTML = docLinkHtml;\n",
              "          element.appendChild(docLink);\n",
              "        }\n",
              "      </script>\n",
              "    </div>\n",
              "  </div>\n"
            ]
          },
          "metadata": {},
          "execution_count": 4
        }
      ]
    },
    {
      "cell_type": "markdown",
      "source": [
        "## Inital Regression\n",
        "\n",
        "The next step of this tutorial is the inital regression models and testing them. We begin by defining which models we'll be using for the experiments below and then testing each one to find out which performs the best. For now, we use the R2 score to determine the best model.\n",
        "\n",
        "The models below are the same ones featured in the sklearn library and can accept the same parameters with the exception of the `SVR()` and `PolynomialRegression()` objects which are classes made to make sure working with the underlying models easier."
      ],
      "metadata": {
        "id": "X_PhOEZIfP1B"
      }
    },
    {
      "cell_type": "code",
      "source": [
        "# Define which models to use\n",
        "models = [regression.GaussianProcessRegressor(),\n",
        "          regression.KNeighborsRegressor(),\n",
        "          regression.Ridge(),\n",
        "          regression.LinearRegression(),\n",
        "          regression.MLPRegressor(),\n",
        "          regression.PolynomialRegression(),\n",
        "          regression.SVR(),\n",
        "          regression.DecisionTreeRegressor(),\n",
        "          regression.Lasso(),\n",
        "          regression.RandomForestRegressor()\n",
        "          ]"
      ],
      "metadata": {
        "id": "FELR5T6_fNNt"
      },
      "execution_count": 5,
      "outputs": []
    },
    {
      "cell_type": "markdown",
      "source": [
        "Now we run the experiments and determine the best performing model."
      ],
      "metadata": {
        "id": "qmkGthiMg-fm"
      }
    },
    {
      "cell_type": "code",
      "source": [
        "# Using a temporary variable to hold the best performing model\n",
        "# we'll define the best performing model by the highest r2\n",
        "top_model = None\n",
        "best_r2 = None\n",
        "\n",
        "scores=[]\n",
        "for model in models:\n",
        "    score = utils.regression_train_and_test(model, *data)\n",
        "    # Check for best R2 score\n",
        "    if (not best_r2) or (score['r2'] > best_r2):\n",
        "        top_model = model\n",
        "        best_r2 = score['r2']\n",
        "    scores.append(score)\n",
        "\n",
        "print(\"Best performing model: \", type(top_model).__name__)\n",
        "print(\"w/ score: \", best_r2)"
      ],
      "metadata": {
        "colab": {
          "base_uri": "https://localhost:8080/",
          "height": 0
        },
        "id": "8ZiNEbZAgxoB",
        "outputId": "fed9d5ef-4140-4ce3-bb56-68ca552c5066"
      },
      "execution_count": 6,
      "outputs": [
        {
          "output_type": "stream",
          "name": "stdout",
          "text": [
            "Best performing model:  RandomForestRegressor\n",
            "w/ score:  0.8191298421262774\n"
          ]
        }
      ]
    },
    {
      "cell_type": "markdown",
      "source": [
        "Finally, we can print out the results of the regression studies using the `render` functions."
      ],
      "metadata": {
        "id": "v18r14wAhEux"
      }
    },
    {
      "cell_type": "code",
      "source": [
        "# Sorting the results so that they print out in order of performance\n",
        "scores.sort(key=lambda x: x['mse'])\n",
        "render.render_results_html(dataset_info, scores)"
      ],
      "metadata": {
        "colab": {
          "base_uri": "https://localhost:8080/",
          "height": 53
        },
        "id": "H7qpwod3hCwP",
        "outputId": "7d2490ef-b5de-4d2d-b745-2f18d5b31f22"
      },
      "execution_count": 7,
      "outputs": [
        {
          "output_type": "stream",
          "name": "stdout",
          "text": [
            "Results page for Concrete Compressive Strength 2 saved in results/Concrete_Compressive_Strength_2_results.html...\n"
          ]
        },
        {
          "output_type": "execute_result",
          "data": {
            "text/plain": [
              "'results/Concrete_Compressive_Strength_2_results.html'"
            ],
            "application/vnd.google.colaboratory.intrinsic+json": {
              "type": "string"
            }
          },
          "metadata": {},
          "execution_count": 7
        }
      ]
    },
    {
      "cell_type": "markdown",
      "source": [
        "## Parametric Studies\n",
        "\n",
        "Now that we have the highest performing model, we can perform some parametric studies. There are two parametric functions in this library:\n",
        "\n",
        "1.   `utils.regression_parametric_study()` : this function takes in the dataset and iterates through the range of every column while using the average of the other columns as base values. We can then print out all the results in the form of graphs and a csv. This column can be used to customize the ranges of certain columns but not the base values.\n",
        "2.   `utils.custom_parametric()` : this function is used to perform user-defined studied with values set by you. We'll start with a defined dictionary set of values and show you the results in the second subsubsection.\n",
        "\n",
        "For both of the following subsection we're going to try to be as close to a study that uses the following values:\n",
        "\n",
        "\n",
        "*   `Water/Binder Ratio (W/B)` : [0.1, 0.2, 0.3, 0.4, 0.5]\n",
        "*   `Superplasticizer (component 5)(kg in a m^3 mixture) (SP)` : [6, 9, 12, 15, 18, 21, 24, 27, 30, 33]\n",
        "*   `Coarse Aggregate  (component 6)(kg in a m^3 mixture) (CA)\t` : 973\n",
        "*   `Fine Aggregate (component 7)(kg in a m^3 mixture) (FA)\t` : 774.2\n",
        "*   `Age (day)\t` : 28\n",
        "\n",
        "\n",
        "\n",
        "\n"
      ],
      "metadata": {
        "id": "qRWGdexOiIRZ"
      }
    },
    {
      "cell_type": "markdown",
      "source": [
        "### Automatic regression study"
      ],
      "metadata": {
        "id": "B6E_WJs7i380"
      }
    },
    {
      "cell_type": "code",
      "source": [
        "# The results of this regression will be stored in the folder defined below\n",
        "save_dir = 'autoRegress'\n",
        "stats, results = utils.regression_parametric_study(top_model, dataset, dataset_info['target'], c1=[0.1, 0.2, 0.3, 0.4, 0.5], c2=[6, 9, 12, 15, 18, 21, 24, 27, 30, 33])\n",
        "\n",
        "render.plot_parametric_graphs(stats, results, dataset_info['target'], save_dir, make_excel = True)"
      ],
      "metadata": {
        "colab": {
          "base_uri": "https://localhost:8080/",
          "height": 0
        },
        "id": "YtdfE6WkhRq2",
        "outputId": "38223bf5-1f86-4ab1-d07b-5ff2afed82c6"
      },
      "execution_count": 9,
      "outputs": [
        {
          "output_type": "stream",
          "name": "stdout",
          "text": [
            "Parametric plots saved in directory: autoRegress/parametric\n",
            "Parametric plots data saved in directory:  autoRegress/parametric/parametric_data.xlsx\n"
          ]
        },
        {
          "output_type": "stream",
          "name": "stderr",
          "text": [
            "/usr/local/lib/python3.10/dist-packages/openpyxl/workbook/child.py:99: UserWarning: Title is more than 31 characters. Some applications may not be able to read the file\n",
            "  warnings.warn(\"Title is more than 31 characters. Some applications may not be able to read the file\")\n"
          ]
        }
      ]
    },
    {
      "cell_type": "markdown",
      "source": [
        "### Custom parametric study\n",
        "\n",
        "Here we are manually setting all the values we want to use in the below code block's `values` dictionary. We also create a directory to save all the results."
      ],
      "metadata": {
        "id": "4JBm0Eo5q2iD"
      }
    },
    {
      "cell_type": "code",
      "source": [
        "custom_save_dir = os.path.join('results', \"custom_parametric\")\n",
        "os.makedirs(custom_save_dir, exist_ok=True)\n",
        "\n",
        "values = {\n",
        "  'Water/Binder Raito ' : [0.1, 0.2, 0.3, 0.4, 0.5],\n",
        "  'Superplasticizer (component 5)(kg in a m^3 mixture)' : [6, 9, 12, 15, 18, 21, 24, 27, 30, 33],\n",
        "  'Coarse Aggregate  (component 6)(kg in a m^3 mixture)' : 973,\n",
        "  'Fine Aggregate (component 7)(kg in a m^3 mixture)' : 774.2,\n",
        "  'Age (day)' : 28\n",
        "}"
      ],
      "metadata": {
        "id": "v6nLPzoHq40R"
      },
      "execution_count": 22,
      "outputs": []
    },
    {
      "cell_type": "markdown",
      "source": [
        "Once the values are set we can run the function."
      ],
      "metadata": {
        "id": "EI21sjPtsihc"
      }
    },
    {
      "cell_type": "code",
      "source": [
        "results, study_vals = utils.custom_parametric(top_model, dataset, values, dataset_info['target'])"
      ],
      "metadata": {
        "id": "gekFQED-r5Ev"
      },
      "execution_count": 24,
      "outputs": []
    },
    {
      "cell_type": "markdown",
      "source": [
        "Finally, we can extract the values and save them into the chosen folder."
      ],
      "metadata": {
        "id": "DAT0uRJMs-An"
      }
    },
    {
      "cell_type": "code",
      "source": [
        "df = pd.DataFrame(study_vals, columns=dataset.drop(dataset_info['target'], axis=1).columns)\n",
        "df[dataset_info['target']] = results\n",
        "df.to_csv(os.path.join(custom_save_dir, 'custom_parametric_data.csv'))\n",
        "df.head()"
      ],
      "metadata": {
        "colab": {
          "base_uri": "https://localhost:8080/",
          "height": 267
        },
        "id": "1xrI-MEIr4Kk",
        "outputId": "ba2b27db-7cae-4a38-f232-54969514a227"
      },
      "execution_count": 25,
      "outputs": [
        {
          "output_type": "execute_result",
          "data": {
            "text/plain": [
              "   Water/Binder Raito   Superplasticizer (component 5)(kg in a m^3 mixture)  \\\n",
              "0                  0.1                                                  6     \n",
              "1                  0.1                                                  9     \n",
              "2                  0.1                                                 12     \n",
              "3                  0.1                                                 15     \n",
              "4                  0.1                                                 18     \n",
              "\n",
              "   Coarse Aggregate  (component 6)(kg in a m^3 mixture)  \\\n",
              "0                                                973      \n",
              "1                                                973      \n",
              "2                                                973      \n",
              "3                                                973      \n",
              "4                                                973      \n",
              "\n",
              "   Fine Aggregate (component 7)(kg in a m^3 mixture)  Age (day)  \\\n",
              "0                                              774.2         28   \n",
              "1                                              774.2         28   \n",
              "2                                              774.2         28   \n",
              "3                                              774.2         28   \n",
              "4                                              774.2         28   \n",
              "\n",
              "   Concrete compressive strength(MPa, megapascals)   \n",
              "0                                         64.268392  \n",
              "1                                         64.928812  \n",
              "2                                         66.388558  \n",
              "3                                         66.838234  \n",
              "4                                         70.067671  "
            ],
            "text/html": [
              "\n",
              "\n",
              "  <div id=\"df-d41ad635-4a9a-4e27-8fdc-b60e6fa2f6af\">\n",
              "    <div class=\"colab-df-container\">\n",
              "      <div>\n",
              "<style scoped>\n",
              "    .dataframe tbody tr th:only-of-type {\n",
              "        vertical-align: middle;\n",
              "    }\n",
              "\n",
              "    .dataframe tbody tr th {\n",
              "        vertical-align: top;\n",
              "    }\n",
              "\n",
              "    .dataframe thead th {\n",
              "        text-align: right;\n",
              "    }\n",
              "</style>\n",
              "<table border=\"1\" class=\"dataframe\">\n",
              "  <thead>\n",
              "    <tr style=\"text-align: right;\">\n",
              "      <th></th>\n",
              "      <th>Water/Binder Raito</th>\n",
              "      <th>Superplasticizer (component 5)(kg in a m^3 mixture)</th>\n",
              "      <th>Coarse Aggregate  (component 6)(kg in a m^3 mixture)</th>\n",
              "      <th>Fine Aggregate (component 7)(kg in a m^3 mixture)</th>\n",
              "      <th>Age (day)</th>\n",
              "      <th>Concrete compressive strength(MPa, megapascals)</th>\n",
              "    </tr>\n",
              "  </thead>\n",
              "  <tbody>\n",
              "    <tr>\n",
              "      <th>0</th>\n",
              "      <td>0.1</td>\n",
              "      <td>6</td>\n",
              "      <td>973</td>\n",
              "      <td>774.2</td>\n",
              "      <td>28</td>\n",
              "      <td>64.268392</td>\n",
              "    </tr>\n",
              "    <tr>\n",
              "      <th>1</th>\n",
              "      <td>0.1</td>\n",
              "      <td>9</td>\n",
              "      <td>973</td>\n",
              "      <td>774.2</td>\n",
              "      <td>28</td>\n",
              "      <td>64.928812</td>\n",
              "    </tr>\n",
              "    <tr>\n",
              "      <th>2</th>\n",
              "      <td>0.1</td>\n",
              "      <td>12</td>\n",
              "      <td>973</td>\n",
              "      <td>774.2</td>\n",
              "      <td>28</td>\n",
              "      <td>66.388558</td>\n",
              "    </tr>\n",
              "    <tr>\n",
              "      <th>3</th>\n",
              "      <td>0.1</td>\n",
              "      <td>15</td>\n",
              "      <td>973</td>\n",
              "      <td>774.2</td>\n",
              "      <td>28</td>\n",
              "      <td>66.838234</td>\n",
              "    </tr>\n",
              "    <tr>\n",
              "      <th>4</th>\n",
              "      <td>0.1</td>\n",
              "      <td>18</td>\n",
              "      <td>973</td>\n",
              "      <td>774.2</td>\n",
              "      <td>28</td>\n",
              "      <td>70.067671</td>\n",
              "    </tr>\n",
              "  </tbody>\n",
              "</table>\n",
              "</div>\n",
              "      <button class=\"colab-df-convert\" onclick=\"convertToInteractive('df-d41ad635-4a9a-4e27-8fdc-b60e6fa2f6af')\"\n",
              "              title=\"Convert this dataframe to an interactive table.\"\n",
              "              style=\"display:none;\">\n",
              "\n",
              "  <svg xmlns=\"http://www.w3.org/2000/svg\" height=\"24px\"viewBox=\"0 0 24 24\"\n",
              "       width=\"24px\">\n",
              "    <path d=\"M0 0h24v24H0V0z\" fill=\"none\"/>\n",
              "    <path d=\"M18.56 5.44l.94 2.06.94-2.06 2.06-.94-2.06-.94-.94-2.06-.94 2.06-2.06.94zm-11 1L8.5 8.5l.94-2.06 2.06-.94-2.06-.94L8.5 2.5l-.94 2.06-2.06.94zm10 10l.94 2.06.94-2.06 2.06-.94-2.06-.94-.94-2.06-.94 2.06-2.06.94z\"/><path d=\"M17.41 7.96l-1.37-1.37c-.4-.4-.92-.59-1.43-.59-.52 0-1.04.2-1.43.59L10.3 9.45l-7.72 7.72c-.78.78-.78 2.05 0 2.83L4 21.41c.39.39.9.59 1.41.59.51 0 1.02-.2 1.41-.59l7.78-7.78 2.81-2.81c.8-.78.8-2.07 0-2.86zM5.41 20L4 18.59l7.72-7.72 1.47 1.35L5.41 20z\"/>\n",
              "  </svg>\n",
              "      </button>\n",
              "\n",
              "\n",
              "\n",
              "    <div id=\"df-16163bf8-f4ea-4a28-a19b-5abf0e0ad8a9\">\n",
              "      <button class=\"colab-df-quickchart\" onclick=\"quickchart('df-16163bf8-f4ea-4a28-a19b-5abf0e0ad8a9')\"\n",
              "              title=\"Suggest charts.\"\n",
              "              style=\"display:none;\">\n",
              "\n",
              "<svg xmlns=\"http://www.w3.org/2000/svg\" height=\"24px\"viewBox=\"0 0 24 24\"\n",
              "     width=\"24px\">\n",
              "    <g>\n",
              "        <path d=\"M19 3H5c-1.1 0-2 .9-2 2v14c0 1.1.9 2 2 2h14c1.1 0 2-.9 2-2V5c0-1.1-.9-2-2-2zM9 17H7v-7h2v7zm4 0h-2V7h2v10zm4 0h-2v-4h2v4z\"/>\n",
              "    </g>\n",
              "</svg>\n",
              "      </button>\n",
              "    </div>\n",
              "\n",
              "<style>\n",
              "  .colab-df-quickchart {\n",
              "    background-color: #E8F0FE;\n",
              "    border: none;\n",
              "    border-radius: 50%;\n",
              "    cursor: pointer;\n",
              "    display: none;\n",
              "    fill: #1967D2;\n",
              "    height: 32px;\n",
              "    padding: 0 0 0 0;\n",
              "    width: 32px;\n",
              "  }\n",
              "\n",
              "  .colab-df-quickchart:hover {\n",
              "    background-color: #E2EBFA;\n",
              "    box-shadow: 0px 1px 2px rgba(60, 64, 67, 0.3), 0px 1px 3px 1px rgba(60, 64, 67, 0.15);\n",
              "    fill: #174EA6;\n",
              "  }\n",
              "\n",
              "  [theme=dark] .colab-df-quickchart {\n",
              "    background-color: #3B4455;\n",
              "    fill: #D2E3FC;\n",
              "  }\n",
              "\n",
              "  [theme=dark] .colab-df-quickchart:hover {\n",
              "    background-color: #434B5C;\n",
              "    box-shadow: 0px 1px 3px 1px rgba(0, 0, 0, 0.15);\n",
              "    filter: drop-shadow(0px 1px 2px rgba(0, 0, 0, 0.3));\n",
              "    fill: #FFFFFF;\n",
              "  }\n",
              "</style>\n",
              "\n",
              "    <script>\n",
              "      async function quickchart(key) {\n",
              "        const containerElement = document.querySelector('#' + key);\n",
              "        const charts = await google.colab.kernel.invokeFunction(\n",
              "            'suggestCharts', [key], {});\n",
              "      }\n",
              "    </script>\n",
              "\n",
              "      <script>\n",
              "\n",
              "function displayQuickchartButton(domScope) {\n",
              "  let quickchartButtonEl =\n",
              "    domScope.querySelector('#df-16163bf8-f4ea-4a28-a19b-5abf0e0ad8a9 button.colab-df-quickchart');\n",
              "  quickchartButtonEl.style.display =\n",
              "    google.colab.kernel.accessAllowed ? 'block' : 'none';\n",
              "}\n",
              "\n",
              "        displayQuickchartButton(document);\n",
              "      </script>\n",
              "      <style>\n",
              "    .colab-df-container {\n",
              "      display:flex;\n",
              "      flex-wrap:wrap;\n",
              "      gap: 12px;\n",
              "    }\n",
              "\n",
              "    .colab-df-convert {\n",
              "      background-color: #E8F0FE;\n",
              "      border: none;\n",
              "      border-radius: 50%;\n",
              "      cursor: pointer;\n",
              "      display: none;\n",
              "      fill: #1967D2;\n",
              "      height: 32px;\n",
              "      padding: 0 0 0 0;\n",
              "      width: 32px;\n",
              "    }\n",
              "\n",
              "    .colab-df-convert:hover {\n",
              "      background-color: #E2EBFA;\n",
              "      box-shadow: 0px 1px 2px rgba(60, 64, 67, 0.3), 0px 1px 3px 1px rgba(60, 64, 67, 0.15);\n",
              "      fill: #174EA6;\n",
              "    }\n",
              "\n",
              "    [theme=dark] .colab-df-convert {\n",
              "      background-color: #3B4455;\n",
              "      fill: #D2E3FC;\n",
              "    }\n",
              "\n",
              "    [theme=dark] .colab-df-convert:hover {\n",
              "      background-color: #434B5C;\n",
              "      box-shadow: 0px 1px 3px 1px rgba(0, 0, 0, 0.15);\n",
              "      filter: drop-shadow(0px 1px 2px rgba(0, 0, 0, 0.3));\n",
              "      fill: #FFFFFF;\n",
              "    }\n",
              "  </style>\n",
              "\n",
              "      <script>\n",
              "        const buttonEl =\n",
              "          document.querySelector('#df-d41ad635-4a9a-4e27-8fdc-b60e6fa2f6af button.colab-df-convert');\n",
              "        buttonEl.style.display =\n",
              "          google.colab.kernel.accessAllowed ? 'block' : 'none';\n",
              "\n",
              "        async function convertToInteractive(key) {\n",
              "          const element = document.querySelector('#df-d41ad635-4a9a-4e27-8fdc-b60e6fa2f6af');\n",
              "          const dataTable =\n",
              "            await google.colab.kernel.invokeFunction('convertToInteractive',\n",
              "                                                     [key], {});\n",
              "          if (!dataTable) return;\n",
              "\n",
              "          const docLinkHtml = 'Like what you see? Visit the ' +\n",
              "            '<a target=\"_blank\" href=https://colab.research.google.com/notebooks/data_table.ipynb>data table notebook</a>'\n",
              "            + ' to learn more about interactive tables.';\n",
              "          element.innerHTML = '';\n",
              "          dataTable['output_type'] = 'display_data';\n",
              "          await google.colab.output.renderOutput(dataTable, element);\n",
              "          const docLink = document.createElement('div');\n",
              "          docLink.innerHTML = docLinkHtml;\n",
              "          element.appendChild(docLink);\n",
              "        }\n",
              "      </script>\n",
              "    </div>\n",
              "  </div>\n"
            ]
          },
          "metadata": {},
          "execution_count": 25
        }
      ]
    }
  ]
}