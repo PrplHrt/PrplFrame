{
  "cells": [
    {
      "cell_type": "markdown",
      "metadata": {
        "id": "7egnuv2bbKCJ"
      },
      "source": [
        "# PrplFrame Tutorial Notebook\n",
        "\n",
        "In this notebook, I explain how to use this library to perform a parametric classification study. This notebook will contain different sections that can be edited to fit your purposes."
      ]
    },
    {
      "cell_type": "markdown",
      "metadata": {
        "id": "jdXe6VnibLZz"
      },
      "source": [
        "## Setup\n",
        "\n",
        "In this section we walk through making sure that the environment you're using is ready for the experiments we are about to perform. I'm going to assume you are using Google Colab for these experiments (you can also run this code on your local PC but you'll need to make sure all dependencies are installed).\n",
        "\n",
        "The first step is to clone the repository and change directory into the cloned repo."
      ]
    },
    {
      "cell_type": "code",
      "execution_count": 1,
      "metadata": {
        "colab": {
          "base_uri": "https://localhost:8080/"
        },
        "id": "XKp6UL8ObENB",
        "outputId": "4ae64054-a973-42a1-b1b2-2f6a0c9b327d"
      },
      "outputs": [
        {
          "name": "stdout",
          "output_type": "stream",
          "text": [
            "Cloning into 'PrplFrame'...\n",
            "remote: Enumerating objects: 262, done.\u001b[K\n",
            "remote: Counting objects: 100% (262/262), done.\u001b[K\n",
            "remote: Compressing objects: 100% (183/183), done.\u001b[K\n",
            "remote: Total 262 (delta 113), reused 221 (delta 76), pack-reused 0\u001b[K\n",
            "Receiving objects: 100% (262/262), 8.13 MiB | 25.53 MiB/s, done.\n",
            "Resolving deltas: 100% (113/113), done.\n",
            "/content/PrplFrame\n"
          ]
        }
      ],
      "source": [
        "!git clone https://github.com/PrplHrt/PrplFrame.git\n",
        "%cd PrplFrame"
      ]
    },
    {
      "cell_type": "markdown",
      "metadata": {
        "id": "_6HBNpB_dGZ2"
      },
      "source": [
        "The next step is to import all the needed libraries for the experiment."
      ]
    },
    {
      "cell_type": "code",
      "execution_count": 1,
      "metadata": {
        "id": "dWPEvhfkcKrn"
      },
      "outputs": [],
      "source": [
        "# Import all needed libraries for the experiment\n",
        "import pandas as pd\n",
        "from evaluation import utils\n",
        "from models import classification\n",
        "from output import render\n",
        "import os"
      ]
    },
    {
      "cell_type": "markdown",
      "metadata": {
        "id": "uPu-OqvOb7-q"
      },
      "source": [
        "## Loading in our data\n",
        "\n",
        "After we've set up the environment, we can begin by first loading in our data for the experiments. I've designed the code so that most of it can be edited by working with a single dictionary below. Feel free to change the dictionary with the values appropriate to your use case. In this experiment, we're going to be using `data/WineQT.csv` as our dataset. If you'd like to use a different dataset, upload it to the `data` directory OR mount your Google Drive and replace the path with the path to the dataset.\n",
        "\n",
        "\n",
        "Dataset Info details:\n",
        "*   `name` : the name of the dataset, used for titles\n",
        "*   `type` : either \"Regression\" or \"Classification\" but this can't be changed as of now\n",
        "*   `target` :  the name of the target column in the dataset\n",
        "*   `split` : the percentage/fraction of the data to be used as a test set\n",
        "*   `path` : the relative or absolute path to the dataset\n",
        "*   `source` : information about the source of the dataset to be used in output\n",
        "\n"
      ]
    },
    {
      "cell_type": "code",
      "execution_count": 2,
      "metadata": {
        "id": "IY0Y56p_dByT"
      },
      "outputs": [],
      "source": [
        "# Dataset info\n",
        "dataset_info = {'name': 'Wine Quality Dataset',\n",
        "                'type': 'Classification',\n",
        "                'target': 'quality',\n",
        "                'split': 0.2,\n",
        "                'path': \"data/WineQT.csv\",\n",
        "                'source': \"\"\"https://www.kaggle.com/datasets/yasserh/wine-quality-dataset\"\"\"}"
      ]
    },
    {
      "cell_type": "markdown",
      "metadata": {
        "id": "6GhbsEzLfCx4"
      },
      "source": [
        "Once we have the information for our dataset we can load  it in and split it accordingly. We also add information about the size of the dataset automatically."
      ]
    },
    {
      "cell_type": "code",
      "execution_count": 3,
      "metadata": {
        "colab": {
          "base_uri": "https://localhost:8080/",
          "height": 299
        },
        "id": "xG0UGU6Me_A3",
        "outputId": "3d1533ed-047e-48ad-e726-543fba7387a8"
      },
      "outputs": [
        {
          "data": {
            "text/html": [
              "<div>\n",
              "<style scoped>\n",
              "    .dataframe tbody tr th:only-of-type {\n",
              "        vertical-align: middle;\n",
              "    }\n",
              "\n",
              "    .dataframe tbody tr th {\n",
              "        vertical-align: top;\n",
              "    }\n",
              "\n",
              "    .dataframe thead th {\n",
              "        text-align: right;\n",
              "    }\n",
              "</style>\n",
              "<table border=\"1\" class=\"dataframe\">\n",
              "  <thead>\n",
              "    <tr style=\"text-align: right;\">\n",
              "      <th></th>\n",
              "      <th>fixed acidity</th>\n",
              "      <th>volatile acidity</th>\n",
              "      <th>citric acid</th>\n",
              "      <th>residual sugar</th>\n",
              "      <th>chlorides</th>\n",
              "      <th>free sulfur dioxide</th>\n",
              "      <th>total sulfur dioxide</th>\n",
              "      <th>density</th>\n",
              "      <th>pH</th>\n",
              "      <th>sulphates</th>\n",
              "      <th>alcohol</th>\n",
              "      <th>quality</th>\n",
              "    </tr>\n",
              "    <tr>\n",
              "      <th>Id</th>\n",
              "      <th></th>\n",
              "      <th></th>\n",
              "      <th></th>\n",
              "      <th></th>\n",
              "      <th></th>\n",
              "      <th></th>\n",
              "      <th></th>\n",
              "      <th></th>\n",
              "      <th></th>\n",
              "      <th></th>\n",
              "      <th></th>\n",
              "      <th></th>\n",
              "    </tr>\n",
              "  </thead>\n",
              "  <tbody>\n",
              "    <tr>\n",
              "      <th>0</th>\n",
              "      <td>7.4</td>\n",
              "      <td>0.70</td>\n",
              "      <td>0.00</td>\n",
              "      <td>1.9</td>\n",
              "      <td>0.076</td>\n",
              "      <td>11.0</td>\n",
              "      <td>34.0</td>\n",
              "      <td>0.9978</td>\n",
              "      <td>3.51</td>\n",
              "      <td>0.56</td>\n",
              "      <td>9.4</td>\n",
              "      <td>5</td>\n",
              "    </tr>\n",
              "    <tr>\n",
              "      <th>1</th>\n",
              "      <td>7.8</td>\n",
              "      <td>0.88</td>\n",
              "      <td>0.00</td>\n",
              "      <td>2.6</td>\n",
              "      <td>0.098</td>\n",
              "      <td>25.0</td>\n",
              "      <td>67.0</td>\n",
              "      <td>0.9968</td>\n",
              "      <td>3.20</td>\n",
              "      <td>0.68</td>\n",
              "      <td>9.8</td>\n",
              "      <td>5</td>\n",
              "    </tr>\n",
              "    <tr>\n",
              "      <th>2</th>\n",
              "      <td>7.8</td>\n",
              "      <td>0.76</td>\n",
              "      <td>0.04</td>\n",
              "      <td>2.3</td>\n",
              "      <td>0.092</td>\n",
              "      <td>15.0</td>\n",
              "      <td>54.0</td>\n",
              "      <td>0.9970</td>\n",
              "      <td>3.26</td>\n",
              "      <td>0.65</td>\n",
              "      <td>9.8</td>\n",
              "      <td>5</td>\n",
              "    </tr>\n",
              "    <tr>\n",
              "      <th>3</th>\n",
              "      <td>11.2</td>\n",
              "      <td>0.28</td>\n",
              "      <td>0.56</td>\n",
              "      <td>1.9</td>\n",
              "      <td>0.075</td>\n",
              "      <td>17.0</td>\n",
              "      <td>60.0</td>\n",
              "      <td>0.9980</td>\n",
              "      <td>3.16</td>\n",
              "      <td>0.58</td>\n",
              "      <td>9.8</td>\n",
              "      <td>6</td>\n",
              "    </tr>\n",
              "    <tr>\n",
              "      <th>4</th>\n",
              "      <td>7.4</td>\n",
              "      <td>0.70</td>\n",
              "      <td>0.00</td>\n",
              "      <td>1.9</td>\n",
              "      <td>0.076</td>\n",
              "      <td>11.0</td>\n",
              "      <td>34.0</td>\n",
              "      <td>0.9978</td>\n",
              "      <td>3.51</td>\n",
              "      <td>0.56</td>\n",
              "      <td>9.4</td>\n",
              "      <td>5</td>\n",
              "    </tr>\n",
              "  </tbody>\n",
              "</table>\n",
              "</div>"
            ],
            "text/plain": [
              "    fixed acidity  volatile acidity  citric acid  residual sugar  chlorides  \\\n",
              "Id                                                                            \n",
              "0             7.4              0.70         0.00             1.9      0.076   \n",
              "1             7.8              0.88         0.00             2.6      0.098   \n",
              "2             7.8              0.76         0.04             2.3      0.092   \n",
              "3            11.2              0.28         0.56             1.9      0.075   \n",
              "4             7.4              0.70         0.00             1.9      0.076   \n",
              "\n",
              "    free sulfur dioxide  total sulfur dioxide  density    pH  sulphates  \\\n",
              "Id                                                                        \n",
              "0                  11.0                  34.0   0.9978  3.51       0.56   \n",
              "1                  25.0                  67.0   0.9968  3.20       0.68   \n",
              "2                  15.0                  54.0   0.9970  3.26       0.65   \n",
              "3                  17.0                  60.0   0.9980  3.16       0.58   \n",
              "4                  11.0                  34.0   0.9978  3.51       0.56   \n",
              "\n",
              "    alcohol  quality  \n",
              "Id                    \n",
              "0       9.4        5  \n",
              "1       9.8        5  \n",
              "2       9.8        5  \n",
              "3       9.8        6  \n",
              "4       9.4        5  "
            ]
          },
          "execution_count": 3,
          "metadata": {},
          "output_type": "execute_result"
        }
      ],
      "source": [
        "dataset = pd.read_csv(dataset_info['path'], index_col=\"Id\")\n",
        "dataset_info['size'] = len(dataset)\n",
        "\n",
        "data = utils.load_Xy(dataset, dataset_info['target'], dataset_info['split'])\n",
        "dataset.head()"
      ]
    },
    {
      "cell_type": "markdown",
      "metadata": {
        "id": "X_PhOEZIfP1B"
      },
      "source": [
        "## Initial Classification\n",
        "\n",
        "The next step of this tutorial is the inital classification models and testing them. We begin by defining which models we'll be using for the experiments below and then testing each one to find out which performs the best. For now, we use the R2 score to determine the best model.\n",
        "\n",
        "The models below are the same ones featured in the sklearn library and can accept the same parameters with the exception of the `SVC()` object which is a class made to make sure working with the underlying models easier."
      ]
    },
    {
      "cell_type": "code",
      "execution_count": 4,
      "metadata": {
        "id": "FELR5T6_fNNt"
      },
      "outputs": [],
      "source": [
        "# Define which models to use\n",
        "models = [classification.LogisticRegression(),\n",
        "          classification.SVC(),\n",
        "          classification.DecisionTreeClassifier(),\n",
        "          classification.GaussianProcessClassifier(),\n",
        "          classification.RandomForestClassifier(),\n",
        "          classification.DecisionTreeClassifier(),\n",
        "          classification.MLPClassifier()\n",
        "          ]"
      ]
    },
    {
      "cell_type": "markdown",
      "metadata": {
        "id": "qmkGthiMg-fm"
      },
      "source": [
        "Now we run the experiments and determine the best performing model."
      ]
    },
    {
      "cell_type": "code",
      "execution_count": 5,
      "metadata": {
        "colab": {
          "base_uri": "https://localhost:8080/"
        },
        "id": "8ZiNEbZAgxoB",
        "outputId": "3b718f81-36e8-4cb9-a92c-cfb4dad11403"
      },
      "outputs": [
        {
          "name": "stderr",
          "output_type": "stream",
          "text": [
            "c:\\Users\\eyada\\AppData\\Local\\Programs\\Python\\Python311\\Lib\\site-packages\\sklearn\\linear_model\\_logistic.py:460: ConvergenceWarning: lbfgs failed to converge (status=1):\n",
            "STOP: TOTAL NO. of ITERATIONS REACHED LIMIT.\n",
            "\n",
            "Increase the number of iterations (max_iter) or scale the data as shown in:\n",
            "    https://scikit-learn.org/stable/modules/preprocessing.html\n",
            "Please also refer to the documentation for alternative solver options:\n",
            "    https://scikit-learn.org/stable/modules/linear_model.html#logistic-regression\n",
            "  n_iter_i = _check_optimize_result(\n"
          ]
        },
        {
          "name": "stdout",
          "output_type": "stream",
          "text": [
            "Best performing model:  RandomForestClassifier\n",
            "w/ score:  0.6943231441048034\n"
          ]
        },
        {
          "name": "stderr",
          "output_type": "stream",
          "text": [
            "c:\\Users\\eyada\\AppData\\Local\\Programs\\Python\\Python311\\Lib\\site-packages\\sklearn\\neural_network\\_multilayer_perceptron.py:691: ConvergenceWarning: Stochastic Optimizer: Maximum iterations (200) reached and the optimization hasn't converged yet.\n",
            "  warnings.warn(\n"
          ]
        }
      ],
      "source": [
        "# Using a temporary variable to hold the best performing model\n",
        "# we'll define the best performing model by the highest f1 score\n",
        "top_model = None\n",
        "best_f1 = None\n",
        "\n",
        "scores=[]\n",
        "for model in models:\n",
        "    score = utils.classification_train_and_test(model, *data)\n",
        "    # Check for best f1 score\n",
        "    if (not best_f1) or (score['f1'] > best_f1):\n",
        "        top_model = model\n",
        "        best_f1 = score['f1']\n",
        "    scores.append(score)\n",
        "\n",
        "print(\"Best performing model: \", type(top_model).__name__)\n",
        "print(\"w/ score: \", best_f1)"
      ]
    },
    {
      "cell_type": "markdown",
      "metadata": {
        "id": "v18r14wAhEux"
      },
      "source": [
        "Finally, we can print out the results of the regression studies using the `render` functions."
      ]
    },
    {
      "cell_type": "code",
      "execution_count": 6,
      "metadata": {},
      "outputs": [
        {
          "name": "stdout",
          "output_type": "stream",
          "text": [
            "Results page for Wine Quality Dataset saved in results/Wine_Quality_Dataset_results.html...\n"
          ]
        },
        {
          "data": {
            "text/plain": [
              "'results/Wine_Quality_Dataset_results.html'"
            ]
          },
          "execution_count": 6,
          "metadata": {},
          "output_type": "execute_result"
        }
      ],
      "source": [
        "# Sorting the results so that they print out in order of performance\n",
        "scores.sort(key=lambda x: x['f1'], reverse=True)\n",
        "render.render_results_html(dataset_info, scores)"
      ]
    },
    {
      "cell_type": "markdown",
      "metadata": {
        "id": "qRWGdexOiIRZ"
      },
      "source": [
        "## Parametric Studies\n",
        "\n",
        "Now that we have the highest performing model, we can perform some parametric studies. There are two parametric functions in this library:\n",
        "\n",
        "1.   `utils.parametric_study()` : this function takes in the dataset and iterates through the range of every column while using the average of the other columns as base values. We can then print out all the results in the form of graphs and a csv. This column can be used to customize the ranges of certain columns but not the base values.\n",
        "2.   `utils.custom_parametric()` : this function is used to perform user-defined studied with values set by you. We'll start with a defined dictionary set of values and show you the results in the second subsubsection.\n",
        "\n",
        "\n",
        "\n",
        "\n"
      ]
    },
    {
      "cell_type": "markdown",
      "metadata": {
        "id": "B6E_WJs7i380"
      },
      "source": [
        "### Automatic regression study"
      ]
    },
    {
      "cell_type": "code",
      "execution_count": 7,
      "metadata": {
        "colab": {
          "base_uri": "https://localhost:8080/"
        },
        "id": "YtdfE6WkhRq2",
        "outputId": "bad97794-8969-4178-d8c8-cbad9d16f1dc"
      },
      "outputs": [
        {
          "name": "stdout",
          "output_type": "stream",
          "text": [
            "Parametric plots saved in directory: results/autoClass\\parametric\n",
            "Parametric plots data saved in directory:  results/autoClass\\parametric\\parametric_data.xlsx\n"
          ]
        }
      ],
      "source": [
        "# The results of this regression will be stored in the folder defined below\n",
        "save_dir = 'results/autoClass'\n",
        "stats, results = utils.parametric_study(top_model,\n",
        "                                                   dataset,\n",
        "                                                   dataset_info['target'])\n",
        "\n",
        "render.plot_parametric_graphs(stats, results, dataset_info['target'], save_dir, make_excel = True)"
      ]
    },
    {
      "cell_type": "markdown",
      "metadata": {
        "id": "4JBm0Eo5q2iD"
      },
      "source": [
        "### Custom parametric study\n",
        "\n",
        "Here we are manually setting all the values we want to use in the below code block's `values` dictionary. We also create a directory to save all the results."
      ]
    },
    {
      "cell_type": "code",
      "execution_count": 11,
      "metadata": {
        "id": "v6nLPzoHq40R"
      },
      "outputs": [],
      "source": [
        "custom_save_dir = os.path.join('results', \"custom_parametric\")\n",
        "os.makedirs(custom_save_dir, exist_ok=True)\n",
        "\n",
        "values = {\n",
        "}"
      ]
    },
    {
      "cell_type": "markdown",
      "metadata": {
        "id": "EI21sjPtsihc"
      },
      "source": [
        "Once the values are set we can run the function."
      ]
    },
    {
      "cell_type": "code",
      "execution_count": 12,
      "metadata": {
        "id": "gekFQED-r5Ev"
      },
      "outputs": [],
      "source": [
        "results, study_vals = utils.custom_parametric(top_model, dataset, values, dataset_info['target'])"
      ]
    },
    {
      "cell_type": "markdown",
      "metadata": {
        "id": "DAT0uRJMs-An"
      },
      "source": [
        "Finally, we can extract the values and save them into the chosen folder."
      ]
    },
    {
      "cell_type": "code",
      "execution_count": 13,
      "metadata": {
        "colab": {
          "base_uri": "https://localhost:8080/",
          "height": 142
        },
        "id": "1xrI-MEIr4Kk",
        "outputId": "6d01cbe4-c3e9-428e-c316-fbca927f8b6b"
      },
      "outputs": [
        {
          "data": {
            "text/html": [
              "\n",
              "\n",
              "  <div id=\"df-274281d7-81df-4bde-8a49-c810a131e36f\">\n",
              "    <div class=\"colab-df-container\">\n",
              "      <div>\n",
              "<style scoped>\n",
              "    .dataframe tbody tr th:only-of-type {\n",
              "        vertical-align: middle;\n",
              "    }\n",
              "\n",
              "    .dataframe tbody tr th {\n",
              "        vertical-align: top;\n",
              "    }\n",
              "\n",
              "    .dataframe thead th {\n",
              "        text-align: right;\n",
              "    }\n",
              "</style>\n",
              "<table border=\"1\" class=\"dataframe\">\n",
              "  <thead>\n",
              "    <tr style=\"text-align: right;\">\n",
              "      <th></th>\n",
              "      <th>fixed acidity</th>\n",
              "      <th>volatile acidity</th>\n",
              "      <th>citric acid</th>\n",
              "      <th>residual sugar</th>\n",
              "      <th>chlorides</th>\n",
              "      <th>free sulfur dioxide</th>\n",
              "      <th>total sulfur dioxide</th>\n",
              "      <th>density</th>\n",
              "      <th>pH</th>\n",
              "      <th>sulphates</th>\n",
              "      <th>alcohol</th>\n",
              "      <th>quality</th>\n",
              "    </tr>\n",
              "  </thead>\n",
              "  <tbody>\n",
              "    <tr>\n",
              "      <th>0</th>\n",
              "      <td>8.311111</td>\n",
              "      <td>0.531339</td>\n",
              "      <td>0.268364</td>\n",
              "      <td>2.532152</td>\n",
              "      <td>0.086933</td>\n",
              "      <td>15.615486</td>\n",
              "      <td>45.914698</td>\n",
              "      <td>0.99673</td>\n",
              "      <td>3.311015</td>\n",
              "      <td>0.657708</td>\n",
              "      <td>10.442111</td>\n",
              "      <td>6</td>\n",
              "    </tr>\n",
              "  </tbody>\n",
              "</table>\n",
              "</div>\n",
              "      <button class=\"colab-df-convert\" onclick=\"convertToInteractive('df-274281d7-81df-4bde-8a49-c810a131e36f')\"\n",
              "              title=\"Convert this dataframe to an interactive table.\"\n",
              "              style=\"display:none;\">\n",
              "\n",
              "  <svg xmlns=\"http://www.w3.org/2000/svg\" height=\"24px\"viewBox=\"0 0 24 24\"\n",
              "       width=\"24px\">\n",
              "    <path d=\"M0 0h24v24H0V0z\" fill=\"none\"/>\n",
              "    <path d=\"M18.56 5.44l.94 2.06.94-2.06 2.06-.94-2.06-.94-.94-2.06-.94 2.06-2.06.94zm-11 1L8.5 8.5l.94-2.06 2.06-.94-2.06-.94L8.5 2.5l-.94 2.06-2.06.94zm10 10l.94 2.06.94-2.06 2.06-.94-2.06-.94-.94-2.06-.94 2.06-2.06.94z\"/><path d=\"M17.41 7.96l-1.37-1.37c-.4-.4-.92-.59-1.43-.59-.52 0-1.04.2-1.43.59L10.3 9.45l-7.72 7.72c-.78.78-.78 2.05 0 2.83L4 21.41c.39.39.9.59 1.41.59.51 0 1.02-.2 1.41-.59l7.78-7.78 2.81-2.81c.8-.78.8-2.07 0-2.86zM5.41 20L4 18.59l7.72-7.72 1.47 1.35L5.41 20z\"/>\n",
              "  </svg>\n",
              "      </button>\n",
              "\n",
              "\n",
              "\n",
              "    <div id=\"df-3ac76700-e755-4eae-8ee3-e23362ff132a\">\n",
              "      <button class=\"colab-df-quickchart\" onclick=\"quickchart('df-3ac76700-e755-4eae-8ee3-e23362ff132a')\"\n",
              "              title=\"Suggest charts.\"\n",
              "              style=\"display:none;\">\n",
              "\n",
              "<svg xmlns=\"http://www.w3.org/2000/svg\" height=\"24px\"viewBox=\"0 0 24 24\"\n",
              "     width=\"24px\">\n",
              "    <g>\n",
              "        <path d=\"M19 3H5c-1.1 0-2 .9-2 2v14c0 1.1.9 2 2 2h14c1.1 0 2-.9 2-2V5c0-1.1-.9-2-2-2zM9 17H7v-7h2v7zm4 0h-2V7h2v10zm4 0h-2v-4h2v4z\"/>\n",
              "    </g>\n",
              "</svg>\n",
              "      </button>\n",
              "    </div>\n",
              "\n",
              "<style>\n",
              "  .colab-df-quickchart {\n",
              "    background-color: #E8F0FE;\n",
              "    border: none;\n",
              "    border-radius: 50%;\n",
              "    cursor: pointer;\n",
              "    display: none;\n",
              "    fill: #1967D2;\n",
              "    height: 32px;\n",
              "    padding: 0 0 0 0;\n",
              "    width: 32px;\n",
              "  }\n",
              "\n",
              "  .colab-df-quickchart:hover {\n",
              "    background-color: #E2EBFA;\n",
              "    box-shadow: 0px 1px 2px rgba(60, 64, 67, 0.3), 0px 1px 3px 1px rgba(60, 64, 67, 0.15);\n",
              "    fill: #174EA6;\n",
              "  }\n",
              "\n",
              "  [theme=dark] .colab-df-quickchart {\n",
              "    background-color: #3B4455;\n",
              "    fill: #D2E3FC;\n",
              "  }\n",
              "\n",
              "  [theme=dark] .colab-df-quickchart:hover {\n",
              "    background-color: #434B5C;\n",
              "    box-shadow: 0px 1px 3px 1px rgba(0, 0, 0, 0.15);\n",
              "    filter: drop-shadow(0px 1px 2px rgba(0, 0, 0, 0.3));\n",
              "    fill: #FFFFFF;\n",
              "  }\n",
              "</style>\n",
              "\n",
              "    <script>\n",
              "      async function quickchart(key) {\n",
              "        const containerElement = document.querySelector('#' + key);\n",
              "        const charts = await google.colab.kernel.invokeFunction(\n",
              "            'suggestCharts', [key], {});\n",
              "      }\n",
              "    </script>\n",
              "\n",
              "      <script>\n",
              "\n",
              "function displayQuickchartButton(domScope) {\n",
              "  let quickchartButtonEl =\n",
              "    domScope.querySelector('#df-3ac76700-e755-4eae-8ee3-e23362ff132a button.colab-df-quickchart');\n",
              "  quickchartButtonEl.style.display =\n",
              "    google.colab.kernel.accessAllowed ? 'block' : 'none';\n",
              "}\n",
              "\n",
              "        displayQuickchartButton(document);\n",
              "      </script>\n",
              "      <style>\n",
              "    .colab-df-container {\n",
              "      display:flex;\n",
              "      flex-wrap:wrap;\n",
              "      gap: 12px;\n",
              "    }\n",
              "\n",
              "    .colab-df-convert {\n",
              "      background-color: #E8F0FE;\n",
              "      border: none;\n",
              "      border-radius: 50%;\n",
              "      cursor: pointer;\n",
              "      display: none;\n",
              "      fill: #1967D2;\n",
              "      height: 32px;\n",
              "      padding: 0 0 0 0;\n",
              "      width: 32px;\n",
              "    }\n",
              "\n",
              "    .colab-df-convert:hover {\n",
              "      background-color: #E2EBFA;\n",
              "      box-shadow: 0px 1px 2px rgba(60, 64, 67, 0.3), 0px 1px 3px 1px rgba(60, 64, 67, 0.15);\n",
              "      fill: #174EA6;\n",
              "    }\n",
              "\n",
              "    [theme=dark] .colab-df-convert {\n",
              "      background-color: #3B4455;\n",
              "      fill: #D2E3FC;\n",
              "    }\n",
              "\n",
              "    [theme=dark] .colab-df-convert:hover {\n",
              "      background-color: #434B5C;\n",
              "      box-shadow: 0px 1px 3px 1px rgba(0, 0, 0, 0.15);\n",
              "      filter: drop-shadow(0px 1px 2px rgba(0, 0, 0, 0.3));\n",
              "      fill: #FFFFFF;\n",
              "    }\n",
              "  </style>\n",
              "\n",
              "      <script>\n",
              "        const buttonEl =\n",
              "          document.querySelector('#df-274281d7-81df-4bde-8a49-c810a131e36f button.colab-df-convert');\n",
              "        buttonEl.style.display =\n",
              "          google.colab.kernel.accessAllowed ? 'block' : 'none';\n",
              "\n",
              "        async function convertToInteractive(key) {\n",
              "          const element = document.querySelector('#df-274281d7-81df-4bde-8a49-c810a131e36f');\n",
              "          const dataTable =\n",
              "            await google.colab.kernel.invokeFunction('convertToInteractive',\n",
              "                                                     [key], {});\n",
              "          if (!dataTable) return;\n",
              "\n",
              "          const docLinkHtml = 'Like what you see? Visit the ' +\n",
              "            '<a target=\"_blank\" href=https://colab.research.google.com/notebooks/data_table.ipynb>data table notebook</a>'\n",
              "            + ' to learn more about interactive tables.';\n",
              "          element.innerHTML = '';\n",
              "          dataTable['output_type'] = 'display_data';\n",
              "          await google.colab.output.renderOutput(dataTable, element);\n",
              "          const docLink = document.createElement('div');\n",
              "          docLink.innerHTML = docLinkHtml;\n",
              "          element.appendChild(docLink);\n",
              "        }\n",
              "      </script>\n",
              "    </div>\n",
              "  </div>\n"
            ],
            "text/plain": [
              "   fixed acidity  volatile acidity  citric acid  residual sugar  chlorides  \\\n",
              "0       8.311111          0.531339     0.268364        2.532152   0.086933   \n",
              "\n",
              "   free sulfur dioxide  total sulfur dioxide  density        pH  sulphates  \\\n",
              "0            15.615486             45.914698  0.99673  3.311015   0.657708   \n",
              "\n",
              "     alcohol  quality  \n",
              "0  10.442111        6  "
            ]
          },
          "execution_count": 13,
          "metadata": {},
          "output_type": "execute_result"
        }
      ],
      "source": [
        "df = pd.DataFrame(study_vals, columns=dataset.drop(dataset_info['target'], axis=1).columns)\n",
        "df[dataset_info['target']] = results\n",
        "df.to_csv(os.path.join(custom_save_dir, 'custom_parametric_data.csv'))\n",
        "df.head()"
      ]
    }
  ],
  "metadata": {
    "colab": {
      "provenance": []
    },
    "kernelspec": {
      "display_name": "Python 3",
      "name": "python3"
    },
    "language_info": {
      "codemirror_mode": {
        "name": "ipython",
        "version": 3
      },
      "file_extension": ".py",
      "mimetype": "text/x-python",
      "name": "python",
      "nbconvert_exporter": "python",
      "pygments_lexer": "ipython3",
      "version": "3.11.4"
    }
  },
  "nbformat": 4,
  "nbformat_minor": 0
}
